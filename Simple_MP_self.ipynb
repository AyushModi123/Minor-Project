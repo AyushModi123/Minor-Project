{
  "cells": [
    {
      "cell_type": "code",
      "execution_count": null,
      "metadata": {
        "id": "l8QBLouaIvp5"
      },
      "outputs": [],
      "source": [
        "!pip install spacy\n",
        "!python -m spacy download en_core_web_sm \n",
        "!pip install tensorflow"
      ]
    },
    {
      "cell_type": "code",
      "execution_count": null,
      "metadata": {
        "colab": {
          "base_uri": "https://localhost:8080/"
        },
        "id": "m4NmdIJ6I7gy",
        "outputId": "48499e01-bc17-4c30-9412-3ca7e97b4a87"
      },
      "outputs": [
        {
          "name": "stderr",
          "output_type": "stream",
          "text": [
            "/usr/local/lib/python3.9/dist-packages/torch/cuda/__init__.py:497: UserWarning: Can't initialize NVML\n",
            "  warnings.warn(\"Can't initialize NVML\")\n"
          ]
        }
      ],
      "source": [
        "import spacy\n",
        "import pandas as pd\n",
        "import numpy as np"
      ]
    },
    {
      "cell_type": "code",
      "execution_count": null,
      "metadata": {
        "id": "Lgvkl-zUI_if"
      },
      "outputs": [],
      "source": [
        "df = pd.read_csv('dataset (1).csv', encoding = 'latin1')"
      ]
    },
    {
      "cell_type": "code",
      "execution_count": null,
      "metadata": {
        "colab": {
          "base_uri": "https://localhost:8080/",
          "height": 206
        },
        "id": "TIPo6qbVJD5_",
        "outputId": "ba1548ca-3f15-4420-8f04-d719be24193b"
      },
      "outputs": [
        {
          "data": {
            "text/html": [
              "\n",
              "  <div id=\"df-46562cfc-8fee-4efa-818d-2bf6bbb8f55c\">\n",
              "    <div class=\"colab-df-container\">\n",
              "      <div>\n",
              "<style scoped>\n",
              "    .dataframe tbody tr th:only-of-type {\n",
              "        vertical-align: middle;\n",
              "    }\n",
              "\n",
              "    .dataframe tbody tr th {\n",
              "        vertical-align: top;\n",
              "    }\n",
              "\n",
              "    .dataframe thead th {\n",
              "        text-align: right;\n",
              "    }\n",
              "</style>\n",
              "<table border=\"1\" class=\"dataframe\">\n",
              "  <thead>\n",
              "    <tr style=\"text-align: right;\">\n",
              "      <th></th>\n",
              "      <th>text</th>\n",
              "      <th>label</th>\n",
              "    </tr>\n",
              "  </thead>\n",
              "  <tbody>\n",
              "    <tr>\n",
              "      <th>0</th>\n",
              "      <td>We ran on the beach.</td>\n",
              "      <td>correct</td>\n",
              "    </tr>\n",
              "    <tr>\n",
              "      <th>1</th>\n",
              "      <td>The music played in the background.</td>\n",
              "      <td>correct</td>\n",
              "    </tr>\n",
              "    <tr>\n",
              "      <th>2</th>\n",
              "      <td>She hung the picture above the couch.</td>\n",
              "      <td>correct</td>\n",
              "    </tr>\n",
              "    <tr>\n",
              "      <th>3</th>\n",
              "      <td>The moon shone above the trees.</td>\n",
              "      <td>correct</td>\n",
              "    </tr>\n",
              "    <tr>\n",
              "      <th>4</th>\n",
              "      <td>She swam under the water.</td>\n",
              "      <td>correct</td>\n",
              "    </tr>\n",
              "  </tbody>\n",
              "</table>\n",
              "</div>\n",
              "      <button class=\"colab-df-convert\" onclick=\"convertToInteractive('df-46562cfc-8fee-4efa-818d-2bf6bbb8f55c')\"\n",
              "              title=\"Convert this dataframe to an interactive table.\"\n",
              "              style=\"display:none;\">\n",
              "        \n",
              "  <svg xmlns=\"http://www.w3.org/2000/svg\" height=\"24px\"viewBox=\"0 0 24 24\"\n",
              "       width=\"24px\">\n",
              "    <path d=\"M0 0h24v24H0V0z\" fill=\"none\"/>\n",
              "    <path d=\"M18.56 5.44l.94 2.06.94-2.06 2.06-.94-2.06-.94-.94-2.06-.94 2.06-2.06.94zm-11 1L8.5 8.5l.94-2.06 2.06-.94-2.06-.94L8.5 2.5l-.94 2.06-2.06.94zm10 10l.94 2.06.94-2.06 2.06-.94-2.06-.94-.94-2.06-.94 2.06-2.06.94z\"/><path d=\"M17.41 7.96l-1.37-1.37c-.4-.4-.92-.59-1.43-.59-.52 0-1.04.2-1.43.59L10.3 9.45l-7.72 7.72c-.78.78-.78 2.05 0 2.83L4 21.41c.39.39.9.59 1.41.59.51 0 1.02-.2 1.41-.59l7.78-7.78 2.81-2.81c.8-.78.8-2.07 0-2.86zM5.41 20L4 18.59l7.72-7.72 1.47 1.35L5.41 20z\"/>\n",
              "  </svg>\n",
              "      </button>\n",
              "      \n",
              "  <style>\n",
              "    .colab-df-container {\n",
              "      display:flex;\n",
              "      flex-wrap:wrap;\n",
              "      gap: 12px;\n",
              "    }\n",
              "\n",
              "    .colab-df-convert {\n",
              "      background-color: #E8F0FE;\n",
              "      border: none;\n",
              "      border-radius: 50%;\n",
              "      cursor: pointer;\n",
              "      display: none;\n",
              "      fill: #1967D2;\n",
              "      height: 32px;\n",
              "      padding: 0 0 0 0;\n",
              "      width: 32px;\n",
              "    }\n",
              "\n",
              "    .colab-df-convert:hover {\n",
              "      background-color: #E2EBFA;\n",
              "      box-shadow: 0px 1px 2px rgba(60, 64, 67, 0.3), 0px 1px 3px 1px rgba(60, 64, 67, 0.15);\n",
              "      fill: #174EA6;\n",
              "    }\n",
              "\n",
              "    [theme=dark] .colab-df-convert {\n",
              "      background-color: #3B4455;\n",
              "      fill: #D2E3FC;\n",
              "    }\n",
              "\n",
              "    [theme=dark] .colab-df-convert:hover {\n",
              "      background-color: #434B5C;\n",
              "      box-shadow: 0px 1px 3px 1px rgba(0, 0, 0, 0.15);\n",
              "      filter: drop-shadow(0px 1px 2px rgba(0, 0, 0, 0.3));\n",
              "      fill: #FFFFFF;\n",
              "    }\n",
              "  </style>\n",
              "\n",
              "      <script>\n",
              "        const buttonEl =\n",
              "          document.querySelector('#df-46562cfc-8fee-4efa-818d-2bf6bbb8f55c button.colab-df-convert');\n",
              "        buttonEl.style.display =\n",
              "          google.colab.kernel.accessAllowed ? 'block' : 'none';\n",
              "\n",
              "        async function convertToInteractive(key) {\n",
              "          const element = document.querySelector('#df-46562cfc-8fee-4efa-818d-2bf6bbb8f55c');\n",
              "          const dataTable =\n",
              "            await google.colab.kernel.invokeFunction('convertToInteractive',\n",
              "                                                     [key], {});\n",
              "          if (!dataTable) return;\n",
              "\n",
              "          const docLinkHtml = 'Like what you see? Visit the ' +\n",
              "            '<a target=\"_blank\" href=https://colab.research.google.com/notebooks/data_table.ipynb>data table notebook</a>'\n",
              "            + ' to learn more about interactive tables.';\n",
              "          element.innerHTML = '';\n",
              "          dataTable['output_type'] = 'display_data';\n",
              "          await google.colab.output.renderOutput(dataTable, element);\n",
              "          const docLink = document.createElement('div');\n",
              "          docLink.innerHTML = docLinkHtml;\n",
              "          element.appendChild(docLink);\n",
              "        }\n",
              "      </script>\n",
              "    </div>\n",
              "  </div>\n",
              "  "
            ],
            "text/plain": [
              "                                    text    label\n",
              "0                   We ran on the beach.  correct\n",
              "1    The music played in the background.  correct\n",
              "2  She hung the picture above the couch.  correct\n",
              "3        The moon shone above the trees.  correct\n",
              "4              She swam under the water.  correct"
            ]
          },
          "execution_count": 37,
          "metadata": {},
          "output_type": "execute_result"
        }
      ],
      "source": [
        "df.head()"
      ]
    },
    {
      "cell_type": "code",
      "execution_count": null,
      "metadata": {
        "colab": {
          "base_uri": "https://localhost:8080/"
        },
        "id": "aN9AsIISpQ6-",
        "outputId": "63e68878-6467-4d32-bc63-85b3e86f2c91"
      },
      "outputs": [
        {
          "data": {
            "text/plain": [
              "2693"
            ]
          },
          "execution_count": 38,
          "metadata": {},
          "output_type": "execute_result"
        }
      ],
      "source": [
        "len(df)"
      ]
    },
    {
      "cell_type": "code",
      "execution_count": null,
      "metadata": {
        "id": "qGBu5AUsJEih"
      },
      "outputs": [],
      "source": [
        "nlp = spacy.load('en_core_web_sm')"
      ]
    },
    {
      "cell_type": "code",
      "execution_count": null,
      "metadata": {
        "id": "ORpoJVUsJEki"
      },
      "outputs": [],
      "source": [
        "# stopwords = nlp.Defaults.stop_words\n",
        "# stopwords.add('the')\n",
        "stopwords = {'the', 'are', 'is', 'them', 'why', 'what', 'where', 'how'}"
      ]
    },
    {
      "cell_type": "code",
      "execution_count": null,
      "metadata": {
        "id": "KQn1ExmbJEoD"
      },
      "outputs": [],
      "source": [
        "df.columns = ['Sentences', 'Label']"
      ]
    },
    {
      "cell_type": "code",
      "execution_count": null,
      "metadata": {
        "colab": {
          "base_uri": "https://localhost:8080/"
        },
        "id": "b1qK1wOBuAkM",
        "outputId": "956702e9-b2e9-4586-f81b-d6d455a11763"
      },
      "outputs": [
        {
          "data": {
            "text/plain": [
              "Sentences    False\n",
              "Label         True\n",
              "dtype: bool"
            ]
          },
          "execution_count": 40,
          "metadata": {},
          "output_type": "execute_result"
        }
      ],
      "source": [
        "df.isnull().any()"
      ]
    },
    {
      "cell_type": "code",
      "execution_count": null,
      "metadata": {
        "id": "6CJxKJrauNQP"
      },
      "outputs": [],
      "source": [
        "df.dropna(inplace = True)"
      ]
    },
    {
      "cell_type": "code",
      "execution_count": null,
      "metadata": {
        "colab": {
          "base_uri": "https://localhost:8080/"
        },
        "id": "d1Z4DHpL1rWT",
        "outputId": "5ef9650e-dd2e-43f2-c0ec-d4fbf69b8499"
      },
      "outputs": [
        {
          "data": {
            "text/plain": [
              "False"
            ]
          },
          "execution_count": 85,
          "metadata": {},
          "output_type": "execute_result"
        }
      ],
      "source": [
        "'on' in stopwords"
      ]
    },
    {
      "cell_type": "markdown",
      "metadata": {
        "id": "tUj9N8nbtb6d"
      },
      "source": [
        "# Forming incorrect sentences"
      ]
    },
    {
      "cell_type": "code",
      "execution_count": null,
      "metadata": {
        "colab": {
          "base_uri": "https://localhost:8080/"
        },
        "id": "JVt2xbpReRMb",
        "outputId": "22af686e-03db-4099-fdc3-099197041e4b"
      },
      "outputs": [
        {
          "name": "stdout",
          "output_type": "stream",
          "text": [
            "1547\n"
          ]
        }
      ],
      "source": [
        "import re\n",
        "import random\n",
        "\n",
        "preposition_errors = {\n",
        "    \"in\": [\"on\", \"at\"],\n",
        "    \"of\": [\"for\", \"with\", \"in\", \"by\", \"about\"],\n",
        "    \"to\": [\"at\", \"with\"],\n",
        "    \"with\": [\"to\", \"for\", \"in\"],\n",
        "    \"at\": [\"in\", \"on\", \"to\", \"with\", \"by\"],\n",
        "    \"from\": [\"to\", \"with\", \"of\", \"in\",],\n",
        "    \"by\": [\"with\", \"from\", \"for\"],\n",
        "    \"about\": [\"of\", \"with\", \"for\", \"in\", \"on\"],\n",
        "    \"over\": [\"on\", \"to\", \"in\", \"with\",],\n",
        "    \"through\": [\"with\", \"to\", \"in\", \"on\"]\n",
        "}\n",
        "incSentence = []\n",
        "for sentence in df['Sentences']:\n",
        "  for word in sentence.split():\n",
        "      if word.lower() in preposition_errors:\n",
        "          replacement_list = preposition_errors[word.lower()]\n",
        "          for replacement in replacement_list:\n",
        "            incSentence.append(re.sub(r'\\b'+word+r'\\b', replacement, sentence, flags=re.IGNORECASE))\n",
        "          \n",
        "print(len(incSentence))"
      ]
    },
    {
      "cell_type": "code",
      "execution_count": null,
      "metadata": {
        "id": "kV_v7VXBgTcD"
      },
      "outputs": [],
      "source": [
        "rows = []\n",
        "for i, sentence in enumerate(incSentence):\n",
        "  sentence = sentence.replace(',', '')\n",
        "  incSentence[i] = sentence.replace('.', '.,incorrect')\n",
        "  row = incSentence[i].split(',')\n",
        "  rows.append(row)\n"
      ]
    },
    {
      "cell_type": "code",
      "execution_count": null,
      "metadata": {
        "colab": {
          "base_uri": "https://localhost:8080/"
        },
        "id": "p6BZ46RrhTgp",
        "outputId": "efa69cf0-12f0-4e57-904e-55a8c410f569"
      },
      "outputs": [
        {
          "data": {
            "text/plain": [
              "[['The music played on the background.', 'incorrect'],\n",
              " ['The music played at the background.', 'incorrect'],\n",
              " ['They drove with the tunnel.', 'incorrect'],\n",
              " ['They drove to the tunnel.', 'incorrect'],\n",
              " ['They drove in the tunnel.', 'incorrect']]"
            ]
          },
          "execution_count": 30,
          "metadata": {},
          "output_type": "execute_result"
        }
      ],
      "source": [
        "rows[:5]"
      ]
    },
    {
      "cell_type": "code",
      "execution_count": null,
      "metadata": {
        "id": "hGmF4ixlfmPU"
      },
      "outputs": [],
      "source": [
        "import csv\n",
        "with open('dataset.csv', 'w') as csvfile:\n",
        "    csvwriter = csv.writer(csvfile)\n",
        "    csvwriter.writerows(rows)"
      ]
    },
    {
      "cell_type": "markdown",
      "metadata": {
        "id": "2Wwnodfctkvs"
      },
      "source": [
        "# Model "
      ]
    },
    {
      "cell_type": "code",
      "execution_count": null,
      "metadata": {
        "id": "v2jp9YnlPArf"
      },
      "outputs": [],
      "source": [
        "maxlenofsentence = 20"
      ]
    },
    {
      "cell_type": "code",
      "execution_count": null,
      "metadata": {
        "id": "sb0nEp2WL5N4"
      },
      "outputs": [],
      "source": [
        "import tensorflow as tf\n",
        "from tensorflow.keras.preprocessing.text import Tokenizer\n",
        "from tensorflow.keras.preprocessing.sequence import pad_sequences"
      ]
    },
    {
      "cell_type": "code",
      "execution_count": null,
      "metadata": {
        "id": "xjtNkppNMuwu"
      },
      "outputs": [],
      "source": [
        "myTokenizer = Tokenizer(num_words=800, oov_token=\"<UNK>\")\n"
      ]
    },
    {
      "cell_type": "code",
      "execution_count": null,
      "metadata": {
        "id": "tukdUEsJSpL5"
      },
      "outputs": [],
      "source": [
        "def preprocess(textdata, fit = False):\n",
        "  newFrame = []\n",
        "  for sentence in textdata:\n",
        "    sentence = sentence.lower()\n",
        "    doc = nlp(sentence)\n",
        "    newSent = []\n",
        "    for token in doc:\n",
        "      if token.text in stopwords or len(token.text)<=1:\n",
        "        continue\n",
        "      token = token.lemma_  \n",
        "      newSent.append(token)\n",
        "    #print(newSent)  \n",
        "    newFrame.append(newSent)\n",
        "  newSentences = []\n",
        "  for sentence in newFrame:\n",
        "    newSentences.append(' '.join(map(str, sentence)))   \n",
        "  if fit:\n",
        "    myTokenizer.fit_on_texts(newSentences) \n",
        "  sequences = myTokenizer.texts_to_sequences(newSentences)\n",
        "  padded = pad_sequences(sequences, maxlen=maxlenofsentence)\n",
        "  return padded"
      ]
    },
    {
      "cell_type": "code",
      "execution_count": null,
      "metadata": {
        "id": "Ig3sL-1GPID9"
      },
      "outputs": [],
      "source": [
        "X_train = preprocess(df['Sentences'], fit = True)"
      ]
    },
    {
      "cell_type": "code",
      "execution_count": null,
      "metadata": {
        "id": "mbNu7YUIPXYZ"
      },
      "outputs": [],
      "source": [
        "y_train = df['Label']\n",
        "y_train = np.array(y_train.map({'correct':1, 'incorrect':0}))"
      ]
    },
    {
      "cell_type": "code",
      "execution_count": null,
      "metadata": {
        "id": "VWt2dIMezXvc"
      },
      "outputs": [],
      "source": [
        "from sklearn.utils import shuffle\n",
        "X_train, y_train = shuffle(X_train, y_train)"
      ]
    },
    {
      "cell_type": "code",
      "execution_count": null,
      "metadata": {
        "colab": {
          "base_uri": "https://localhost:8080/"
        },
        "id": "NFY56_G5z3ZK",
        "outputId": "d18c05db-ab30-4e62-be0d-bbe311fd6aec"
      },
      "outputs": [
        {
          "data": {
            "text/plain": [
              "881"
            ]
          },
          "execution_count": 91,
          "metadata": {},
          "output_type": "execute_result"
        }
      ],
      "source": [
        "len(myTokenizer.word_index)"
      ]
    },
    {
      "cell_type": "code",
      "execution_count": null,
      "metadata": {
        "id": "uK8-Gs9hNN6e"
      },
      "outputs": [],
      "source": [
        "from keras.models import Sequential\n",
        "from keras.layers import Embedding, SimpleRNN, Dense, LSTM, Bidirectional, Conv1D\n",
        "\n",
        "vocab_size = 1000\n",
        "max_len = maxlenofsentence\n",
        "embedding_dim = 32\n",
        "\n",
        "model = Sequential()\n",
        "model.add(Embedding(input_dim=vocab_size, output_dim=embedding_dim, input_length=max_len))\n",
        "model.add(Dense(units=64, activation=tf.nn.relu))\n",
        "model.add(Bidirectional(LSTM(64, return_sequences=True)))\n",
        "model.add(Bidirectional(LSTM(32)))\n",
        "#model.add(SimpleRNN(units=32))\n",
        "model.add(Dense(units=1, activation=tf.nn.sigmoid))\n",
        "model.compile(optimizer='adam', loss='binary_crossentropy', metrics=['accuracy'])\n",
        "\n"
      ]
    },
    {
      "cell_type": "code",
      "execution_count": null,
      "metadata": {
        "colab": {
          "base_uri": "https://localhost:8080/"
        },
        "id": "xFDnjS57PhTN",
        "outputId": "478aaaa8-f7ed-4b6c-c44d-75c050e9f968"
      },
      "outputs": [
        {
          "name": "stdout",
          "output_type": "stream",
          "text": [
            "Epoch 1/10\n",
            "269/269 [==============================] - 14s 27ms/step - loss: 0.5043 - accuracy: 0.7553\n",
            "Epoch 2/10\n",
            "269/269 [==============================] - 9s 34ms/step - loss: 0.2774 - accuracy: 0.8974\n",
            "Epoch 3/10\n",
            "269/269 [==============================] - 9s 35ms/step - loss: 0.2155 - accuracy: 0.9269\n",
            "Epoch 4/10\n",
            "269/269 [==============================] - 9s 34ms/step - loss: 0.1737 - accuracy: 0.9470\n",
            "Epoch 5/10\n",
            "269/269 [==============================] - 8s 30ms/step - loss: 0.1692 - accuracy: 0.9452\n",
            "Epoch 6/10\n",
            "269/269 [==============================] - 8s 31ms/step - loss: 0.1458 - accuracy: 0.9571\n",
            "Epoch 7/10\n",
            "269/269 [==============================] - 8s 30ms/step - loss: 0.1475 - accuracy: 0.9523\n",
            "Epoch 8/10\n",
            "269/269 [==============================] - 7s 27ms/step - loss: 0.1237 - accuracy: 0.9627\n",
            "Epoch 9/10\n",
            "269/269 [==============================] - 9s 32ms/step - loss: 0.1156 - accuracy: 0.9649\n",
            "Epoch 10/10\n",
            "269/269 [==============================] - 8s 31ms/step - loss: 0.1069 - accuracy: 0.9649\n"
          ]
        },
        {
          "data": {
            "text/plain": [
              "<keras.callbacks.History at 0x7fd01e70c9d0>"
            ]
          },
          "execution_count": 93,
          "metadata": {},
          "output_type": "execute_result"
        }
      ],
      "source": [
        "model.fit(X_train, y_train, epochs=10, batch_size=10)"
      ]
    },
    {
      "cell_type": "code",
      "execution_count": null,
      "metadata": {
        "id": "z0qEDGf4QLHA"
      },
      "outputs": [],
      "source": [
        "#test = ['We are running in the water', 'Dog is sitting inside table']"
      ]
    },
    {
      "cell_type": "code",
      "execution_count": null,
      "metadata": {
        "id": "NglWXCD-VSHx"
      },
      "outputs": [],
      "source": [
        "test = '''She always sits beside me in class.\n",
        "The picture frame is hanging above the couch.\n",
        "The old book was found beneath the dusty shelves.\n",
        "The car is parked underneath the streetlamp.\n",
        "The keys are hidden inside the drawer.\n",
        "The little boy ran towards his mother.\n",
        "The hot air balloon is floating over the city.\n",
        "The dog is resting near the fireplace.\n",
        "The cake is on the platter.\n",
        "The plane is landing onto the runway.\n",
        "The butterfly is fluttering around the flowers.\n",
        "The alarm clock is next to the bed.\n",
        "The snow is falling onto the ground.\n",
        "The train is passing beneath the bridge.\n",
        "The squirrel is climbing up the tree.\n",
        "The jacket is hanging on the coat hanger.\n",
        "The sun is shining through the window.\n",
        "The pen is on the desk.\n",
        "The children are playing in the backyard.\n",
        "The music is playing from the speakers.\n",
        "The boat is sailing towards the island.\n",
        "The girl is running around the park.\n",
        "The pencil is in the pencil case.\n",
        "The birds are nesting in the tree.\n",
        "The coffee is served in the mug.\n",
        "The car is driving along the highway.\n",
        "The light is shining above the table.\n",
        "The fish is swimming through the aquarium.\n",
        "The phone is charging in the socket.\n",
        "The airplane is flying over the clouds.\n",
        "The kitten is sleeping on the pillow.\n",
        "The man is standing in front of the door.\n",
        "The rain is pouring onto the roof.\n",
        "The tree is planted next to the sidewalk.\n",
        "The spider is crawling under the bed.\n",
        "The car is parked in front of the store.\n",
        "The moon is shining upon the water.\n",
        "The teacher is sitting behind the desk.\n",
        "The kids are playing hide-and-seek around the house.\n",
        "The book is lying on the floor.\n",
        "The horse is galloping towards the fence.\n",
        "The boy is standing on the edge of the pool.\n",
        "The sun is rising above the horizon.\n",
        "The mug is filled with hot chocolate.\n",
        "The girl is standing under the umbrella.\n",
        "The painting is hanging between two windows.\n",
        "The train is traveling across the country.\n",
        "The ant is crawling on the wall.\n",
        "The flowers are blooming near the fountain.\n",
        "The dog is running after the ball.\n",
        "The book is opened at page 23.\n",
        "The car is driving under the tunnel.\n",
        "The guitar is leaning against the wall.\n",
        "The bird is perched on the branch.\n",
        "The girl is standing in front of the mirror.\n",
        "The sun is setting behind the hills.\n",
        "The cat is hiding behind the curtains.\n",
        "The music is playing inside the car.\n",
        "The cup is placed on the saucer.\n",
        "The train is going over the bridge.\n",
        "The man is walking towards the park.\n",
        "The leaves are falling onto the ground.\n",
        "The car is parked on the driveway.\n",
        "The moon is shining through the clouds.\n",
        "The plant is growing out of the pot.\n",
        "The coffee is brewing in the pot.\n",
        "The dog is digging under the fence.\n",
        "The ship is sailing towards the port.\n",
        "The girl is standing in front of the door.\n",
        "The plane is descending towards the airport.\n",
        "The book is kept on the shelf.\n",
        "The snow is piled up on the sidewalk.\n",
        "The tree is bending over the river.'''"
      ]
    },
    {
      "cell_type": "code",
      "execution_count": null,
      "metadata": {
        "id": "9s9LkYi0VhTm"
      },
      "outputs": [],
      "source": [
        "test = test.split('\\n')"
      ]
    },
    {
      "cell_type": "code",
      "execution_count": null,
      "metadata": {
        "id": "wKzAx6ZrQZP0"
      },
      "outputs": [],
      "source": [
        "testPadded = preprocess(test)"
      ]
    },
    {
      "cell_type": "code",
      "execution_count": null,
      "metadata": {
        "id": "1D1UB14RV5WA"
      },
      "outputs": [],
      "source": [
        "y_test = np.ones((73, ))"
      ]
    },
    {
      "cell_type": "code",
      "execution_count": null,
      "metadata": {
        "colab": {
          "base_uri": "https://localhost:8080/"
        },
        "id": "3ddZABqcUdqh",
        "outputId": "2914a747-fbe7-467f-ca94-54d6b769d672"
      },
      "outputs": [
        {
          "name": "stdout",
          "output_type": "stream",
          "text": [
            "3/3 [==============================] - 1s 12ms/step - loss: 1.2827 - accuracy: 0.6712\n",
            "Test loss: 1.2827247381210327, Test accuracy: 0.6712328791618347\n"
          ]
        }
      ],
      "source": [
        "loss, accuracy = model.evaluate(testPadded, y_test)\n",
        "print(f'Test loss: {loss}, Test accuracy: {accuracy}')"
      ]
    },
    {
      "cell_type": "code",
      "execution_count": null,
      "metadata": {
        "id": "wr8ke8mLFIkz"
      },
      "outputs": [],
      "source": [
        "model.save('MPmodel.h5')"
      ]
    }
  ],
  "metadata": {
    "colab": {
      "collapsed_sections": [
        "tUj9N8nbtb6d"
      ],
      "provenance": []
    },
    "kernelspec": {
      "display_name": "Python 3",
      "name": "python3"
    },
    "language_info": {
      "name": "python"
    }
  },
  "nbformat": 4,
  "nbformat_minor": 0
}
